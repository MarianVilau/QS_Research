{
 "cells": [
  {
   "cell_type": "code",
   "id": "initial_id",
   "metadata": {
    "collapsed": true,
    "ExecuteTime": {
     "end_time": "2024-09-04T18:55:43.733123Z",
     "start_time": "2024-09-04T18:55:43.729770Z"
    }
   },
   "source": "import cirq",
   "outputs": [],
   "execution_count": 17
  },
  {
   "metadata": {
    "ExecuteTime": {
     "end_time": "2024-09-04T18:55:43.739989Z",
     "start_time": "2024-09-04T18:55:43.734121Z"
    }
   },
   "cell_type": "code",
   "source": "import numpy as np\n",
   "id": "7e4bfc976af6b5d0",
   "outputs": [],
   "execution_count": 18
  },
  {
   "metadata": {
    "ExecuteTime": {
     "end_time": "2024-09-04T18:55:43.747622Z",
     "start_time": "2024-09-04T18:55:43.740985Z"
    }
   },
   "cell_type": "code",
   "source": [
    "def grover_circuit (num_qubits):\n",
    "    # Create qubits\n",
    "    qubits = [cirq.LineQubit(i) for i in range(num_qubits)]\n",
    "    \n",
    "    # Create a quantum circuit\n",
    "    circuit = cirq.Circuit()\n",
    "    \n",
    "    # Initialize qubits to superposition state\n",
    "    circuit.append(cirq.H.on_each(*qubits))\n",
    "    \n",
    "    # Oracle to mark the target state\n",
    "    target_state = [1] * num_qubits # Target state is |11...1>\n",
    "    oracle = cirq.Z.controlled(num_qubits - 1)\n",
    "    circuit.append(oracle(*qubits))\n",
    "    \n",
    "    # Grover alg. diffusion operator (inversion about the mean)\n",
    "    circuit.append(cirq.H.on_each(*qubits))\n",
    "    circuit.append(cirq.X.on_each(*qubits))\n",
    "    circuit.append(cirq.Z.controlled(num_qubits - 1)(*qubits))\n",
    "    circuit.append(cirq.X.on_each(*qubits))\n",
    "    circuit.append(cirq.H.on_each(*qubits))\n",
    "    \n",
    "    # Add measurement\n",
    "    circuit.append([cirq.measure(qubit, key=f'q{i}') for i, qubit in enumerate(qubits)])\n",
    "    \n",
    "    return circuit, qubits"
   ],
   "id": "6df74e495174989",
   "outputs": [],
   "execution_count": 19
  },
  {
   "metadata": {
    "ExecuteTime": {
     "end_time": "2024-09-04T19:01:33.788935Z",
     "start_time": "2024-09-04T19:01:33.763813Z"
    }
   },
   "cell_type": "code",
   "source": [
    "# Number of qubits\n",
    "num_qubits = 3\n",
    "\n",
    "# Create the Grover circuit\n",
    "circuit, qubits = grover_circuit(num_qubits)\n",
    "\n",
    "# Simulate the circuit\n",
    "simulator = cirq.Simulator()\n",
    "result = simulator.run(circuit, repetitions=1000)\n",
    "\n",
    "# Get the measurement results\n",
    "keys = [f'q{i}' for i in range(num_qubits)]\n",
    "counts = result.multi_measurement_histogram(keys=keys)\n",
    "\n",
    "# Convert the results to a readable format\n",
    "readable_counts = {\"\".join(str(bit) for bit in reversed(state)): count for state, count in counts.items()}\n",
    "\n",
    "# Print the results\n",
    "print(\"Measurement Results:\")\n",
    "for state, count in readable_counts.items():\n",
    "    print(f\"State {state}: {count} times\")"
   ],
   "id": "6e042a3fb17092ba",
   "outputs": [
    {
     "name": "stdout",
     "output_type": "stream",
     "text": [
      "Measurement Results:\n",
      "State 101: 26 times\n",
      "State 111: 790 times\n",
      "State 100: 40 times\n",
      "State 011: 27 times\n",
      "State 000: 37 times\n",
      "State 010: 27 times\n",
      "State 110: 23 times\n",
      "State 001: 30 times\n"
     ]
    }
   ],
   "execution_count": 22
  },
  {
   "metadata": {
    "ExecuteTime": {
     "end_time": "2024-09-04T19:01:41.562530Z",
     "start_time": "2024-09-04T19:01:41.451646Z"
    }
   },
   "cell_type": "code",
   "source": [
    "# Plot the results\n",
    "import matplotlib.pyplot as plt\n",
    "\n",
    "states = list(readable_counts.keys())\n",
    "values = list(readable_counts.values())\n",
    "\n",
    "plt.bar(states, values)\n",
    "plt.xlabel('States')\n",
    "plt.ylabel('Counts')\n",
    "plt.title('Measurement Results')\n",
    "plt.show()"
   ],
   "id": "bfdf5a9235888c1a",
   "outputs": [
    {
     "data": {
      "text/plain": [
       "<Figure size 640x480 with 1 Axes>"
      ],
      "image/png": "[encoded data removed]"
     },
     "metadata": {},
     "output_type": "display_data"
    }
   ],
   "execution_count": 23
  },
  {
   "metadata": {
    "ExecuteTime": {
     "end_time": "2024-09-04T19:14:26.830490Z",
     "start_time": "2024-09-04T19:14:26.818708Z"
    }
   },
   "cell_type": "code",
   "source": [
    "from cirq.contrib.svg import SVGCircuit\n",
    "from IPython.display import display\n",
    "\n",
    "# Draw the circuit as a text\n",
    "print(\"\\nGrover Circuit:\")\n",
    "print(circuit)\n",
    "circuit_diagram = circuit.to_text_diagram(transpose=True)\n",
    "print(circuit_diagram)\n",
    "\n",
    "# Save the circuit diagram to a file\n",
    "with open('exports/grover_circuit.txt', 'w', encoding='utf-8') as f:\n",
    "    f.write(circuit_diagram)"
   ],
   "id": "2392b3f2da60c159",
   "outputs": [
    {
     "name": "stdout",
     "output_type": "stream",
     "text": [
      "\n",
      "Grover Circuit:\n",
      "0: ───H───@───H───X───@───X───H───M('q0')───\n",
      "          │           │\n",
      "1: ───H───@───H───X───@───X───H───M('q1')───\n",
      "          │           │\n",
      "2: ───H───@───H───X───@───X───H───M('q2')───\n",
      "0       1       2\n",
      "│       │       │\n",
      "H       H       H\n",
      "│       │       │\n",
      "@───────@───────@\n",
      "│       │       │\n",
      "H       H       H\n",
      "│       │       │\n",
      "X       X       X\n",
      "│       │       │\n",
      "@───────@───────@\n",
      "│       │       │\n",
      "X       X       X\n",
      "│       │       │\n",
      "H       H       H\n",
      "│       │       │\n",
      "M('q0') M('q1') M('q2')\n",
      "│       │       │\n"
     ]
    }
   ],
   "execution_count": 35
  },
  {
   "metadata": {
    "ExecuteTime": {
     "end_time": "2024-09-04T20:15:09.345047Z",
     "start_time": "2024-09-04T20:15:09.217170Z"
    }
   },
   "cell_type": "code",
   "source": [
    "# Draw the circuit as SVG and display it\n",
    "svg_circuit = SVGCircuit(circuit)\n",
    "display(svg_circuit)\n",
    "\n",
    "# Save the circuit diagram as SVG\n",
    "with open(\"exports/grover_circuit.svg\", \"w\", encoding='utf-8') as file:\n",
    "    file.write(str(svg_circuit))"
   ],
   "id": "5a938d60bdc50703",
   "outputs": [
    {
     "data": {
      "text/plain": [
       "<cirq.contrib.svg.svg.SVGCircuit at 0x1c091f47e60>"
      ],
      "image/svg+xml": "<svg xmlns=\"http://www.w3.org/2000/svg\" width=\"595.9175390625\" height=\"150.0\"><line x1=\"30.0\" x2=\"565.9175390625\" y1=\"25.0\" y2=\"25.0\" stroke=\"#1967d2\" stroke-width=\"1\" /><line x1=\"30.0\" x2=\"565.9175390625\" y1=\"75.0\" y2=\"75.0\" stroke=\"#1967d2\" stroke-width=\"1\" /><line x1=\"30.0\" x2=\"565.9175390625\" y1=\"125.0\" y2=\"125.0\" stroke=\"#1967d2\" stroke-width=\"1\" /><line x1=\"150.0\" x2=\"150.0\" y1=\"25.0\" y2=\"125.0\" stroke=\"black\" stroke-width=\"3\" /><line x1=\"330.0\" x2=\"330.0\" y1=\"25.0\" y2=\"125.0\" stroke=\"black\" stroke-width=\"3\" /><rect x=\"10.0\" y=\"5.0\" width=\"40\" height=\"40\" stroke=\"black\" fill=\"white\" stroke-width=\"0\" /><text x=\"30.0\" y=\"25.0\" dominant-baseline=\"middle\" text-anchor=\"middle\" font-size=\"14px\" font-family=\"sans\\-serif:style=normal:variant=normal:weight=normal:stretch=normal:size=10.0\">0: </text><rect x=\"10.0\" y=\"55.0\" width=\"40\" height=\"40\" stroke=\"black\" fill=\"white\" stroke-width=\"0\" /><text x=\"30.0\" y=\"75.0\" dominant-baseline=\"middle\" text-anchor=\"middle\" font-size=\"14px\" font-family=\"sans\\-serif:style=normal:variant=normal:weight=normal:stretch=normal:size=10.0\">1: </text><rect x=\"10.0\" y=\"105.0\" width=\"40\" height=\"40\" stroke=\"black\" fill=\"white\" stroke-width=\"0\" /><text x=\"30.0\" y=\"125.0\" dominant-baseline=\"middle\" text-anchor=\"middle\" font-size=\"14px\" font-family=\"sans\\-serif:style=normal:variant=normal:weight=normal:stretch=normal:size=10.0\">2: </text><rect x=\"70.0\" y=\"5.0\" width=\"40\" height=\"40\" stroke=\"black\" fill=\"white\" stroke-width=\"1\" /><text x=\"90.0\" y=\"25.0\" dominant-baseline=\"middle\" text-anchor=\"middle\" font-size=\"18px\" font-family=\"sans\\-serif:style=normal:variant=normal:weight=normal:stretch=normal:size=10.0\">H</text><rect x=\"70.0\" y=\"55.0\" width=\"40\" height=\"40\" stroke=\"black\" fill=\"white\" stroke-width=\"1\" /><text x=\"90.0\" y=\"75.0\" dominant-baseline=\"middle\" text-anchor=\"middle\" font-size=\"18px\" font-family=\"sans\\-serif:style=normal:variant=normal:weight=normal:stretch=normal:size=10.0\">H</text><rect x=\"70.0\" y=\"105.0\" width=\"40\" height=\"40\" stroke=\"black\" fill=\"white\" stroke-width=\"1\" /><text x=\"90.0\" y=\"125.0\" dominant-baseline=\"middle\" text-anchor=\"middle\" font-size=\"18px\" font-family=\"sans\\-serif:style=normal:variant=normal:weight=normal:stretch=normal:size=10.0\">H</text><circle cx=\"150.0\" cy=\"25.0\" r=\"10.0\" /><circle cx=\"150.0\" cy=\"75.0\" r=\"10.0\" /><circle cx=\"150.0\" cy=\"125.0\" r=\"10.0\" /><rect x=\"190.0\" y=\"5.0\" width=\"40\" height=\"40\" stroke=\"black\" fill=\"white\" stroke-width=\"1\" /><text x=\"210.0\" y=\"25.0\" dominant-baseline=\"middle\" text-anchor=\"middle\" font-size=\"18px\" font-family=\"sans\\-serif:style=normal:variant=normal:weight=normal:stretch=normal:size=10.0\">H</text><rect x=\"190.0\" y=\"55.0\" width=\"40\" height=\"40\" stroke=\"black\" fill=\"white\" stroke-width=\"1\" /><text x=\"210.0\" y=\"75.0\" dominant-baseline=\"middle\" text-anchor=\"middle\" font-size=\"18px\" font-family=\"sans\\-serif:style=normal:variant=normal:weight=normal:stretch=normal:size=10.0\">H</text><rect x=\"190.0\" y=\"105.0\" width=\"40\" height=\"40\" stroke=\"black\" fill=\"white\" stroke-width=\"1\" /><text x=\"210.0\" y=\"125.0\" dominant-baseline=\"middle\" text-anchor=\"middle\" font-size=\"18px\" font-family=\"sans\\-serif:style=normal:variant=normal:weight=normal:stretch=normal:size=10.0\">H</text><rect x=\"250.0\" y=\"5.0\" width=\"40\" height=\"40\" stroke=\"black\" fill=\"white\" stroke-width=\"1\" /><text x=\"270.0\" y=\"25.0\" dominant-baseline=\"middle\" text-anchor=\"middle\" font-size=\"18px\" font-family=\"sans\\-serif:style=normal:variant=normal:weight=normal:stretch=normal:size=10.0\">X</text><rect x=\"250.0\" y=\"55.0\" width=\"40\" height=\"40\" stroke=\"black\" fill=\"white\" stroke-width=\"1\" /><text x=\"270.0\" y=\"75.0\" dominant-baseline=\"middle\" text-anchor=\"middle\" font-size=\"18px\" font-family=\"sans\\-serif:style=normal:variant=normal:weight=normal:stretch=normal:size=10.0\">X</text><rect x=\"250.0\" y=\"105.0\" width=\"40\" height=\"40\" stroke=\"black\" fill=\"white\" stroke-width=\"1\" /><text x=\"270.0\" y=\"125.0\" dominant-baseline=\"middle\" text-anchor=\"middle\" font-size=\"18px\" font-family=\"sans\\-serif:style=normal:variant=normal:weight=normal:stretch=normal:size=10.0\">X</text><circle cx=\"330.0\" cy=\"25.0\" r=\"10.0\" /><circle cx=\"330.0\" cy=\"75.0\" r=\"10.0\" /><circle cx=\"330.0\" cy=\"125.0\" r=\"10.0\" /><rect x=\"370.0\" y=\"5.0\" width=\"40\" height=\"40\" stroke=\"black\" fill=\"white\" stroke-width=\"1\" /><text x=\"390.0\" y=\"25.0\" dominant-baseline=\"middle\" text-anchor=\"middle\" font-size=\"18px\" font-family=\"sans\\-serif:style=normal:variant=normal:weight=normal:stretch=normal:size=10.0\">X</text><rect x=\"370.0\" y=\"55.0\" width=\"40\" height=\"40\" stroke=\"black\" fill=\"white\" stroke-width=\"1\" /><text x=\"390.0\" y=\"75.0\" dominant-baseline=\"middle\" text-anchor=\"middle\" font-size=\"18px\" font-family=\"sans\\-serif:style=normal:variant=normal:weight=normal:stretch=normal:size=10.0\">X</text><rect x=\"370.0\" y=\"105.0\" width=\"40\" height=\"40\" stroke=\"black\" fill=\"white\" stroke-width=\"1\" /><text x=\"390.0\" y=\"125.0\" dominant-baseline=\"middle\" text-anchor=\"middle\" font-size=\"18px\" font-family=\"sans\\-serif:style=normal:variant=normal:weight=normal:stretch=normal:size=10.0\">X</text><rect x=\"430.0\" y=\"5.0\" width=\"40\" height=\"40\" stroke=\"black\" fill=\"white\" stroke-width=\"1\" /><text x=\"450.0\" y=\"25.0\" dominant-baseline=\"middle\" text-anchor=\"middle\" font-size=\"18px\" font-family=\"sans\\-serif:style=normal:variant=normal:weight=normal:stretch=normal:size=10.0\">H</text><rect x=\"430.0\" y=\"55.0\" width=\"40\" height=\"40\" stroke=\"black\" fill=\"white\" stroke-width=\"1\" /><text x=\"450.0\" y=\"75.0\" dominant-baseline=\"middle\" text-anchor=\"middle\" font-size=\"18px\" font-family=\"sans\\-serif:style=normal:variant=normal:weight=normal:stretch=normal:size=10.0\">H</text><rect x=\"430.0\" y=\"105.0\" width=\"40\" height=\"40\" stroke=\"black\" fill=\"white\" stroke-width=\"1\" /><text x=\"450.0\" y=\"125.0\" dominant-baseline=\"middle\" text-anchor=\"middle\" font-size=\"18px\" font-family=\"sans\\-serif:style=normal:variant=normal:weight=normal:stretch=normal:size=10.0\">H</text><rect x=\"490.0\" y=\"5.0\" width=\"55.9175390625\" height=\"40\" stroke=\"black\" fill=\"white\" stroke-width=\"1\" /><text x=\"517.95876953125\" y=\"25.0\" dominant-baseline=\"middle\" text-anchor=\"middle\" font-size=\"14px\" font-family=\"sans\\-serif:style=normal:variant=normal:weight=normal:stretch=normal:size=10.0\">M('q0')</text><rect x=\"490.0\" y=\"55.0\" width=\"55.9175390625\" height=\"40\" stroke=\"black\" fill=\"white\" stroke-width=\"1\" /><text x=\"517.95876953125\" y=\"75.0\" dominant-baseline=\"middle\" text-anchor=\"middle\" font-size=\"14px\" font-family=\"sans\\-serif:style=normal:variant=normal:weight=normal:stretch=normal:size=10.0\">M('q1')</text><rect x=\"490.0\" y=\"105.0\" width=\"55.9175390625\" height=\"40\" stroke=\"black\" fill=\"white\" stroke-width=\"1\" /><text x=\"517.95876953125\" y=\"125.0\" dominant-baseline=\"middle\" text-anchor=\"middle\" font-size=\"14px\" font-family=\"sans\\-serif:style=normal:variant=normal:weight=normal:stretch=normal:size=10.0\">M('q2')</text></svg>"
     },
     "metadata": {},
     "output_type": "display_data"
    }
   ],
   "execution_count": 37
  }
 ],
 "metadata": {
  "kernelspec": {
   "display_name": "Python 3",
   "language": "python",
   "name": "python3"
  },
  "language_info": {
   "codemirror_mode": {
    "name": "ipython",
    "version": 2
   },
   "file_extension": ".py",
   "mimetype": "text/x-python",
   "name": "python",
   "nbconvert_exporter": "python",
   "pygments_lexer": "ipython2",
   "version": "2.7.6"
  }
 },
 "nbformat": 4,
 "nbformat_minor": 5
}
