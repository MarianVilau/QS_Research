{
 "cells": [
  {
   "metadata": {},
   "cell_type": "markdown",
   "source": "Note: This protocol does not use classical communication channels like quantum key distribution (QKD) protocols. It is purely quantum, both in terms of the information packets (quantum states) and the communication channel (entanglement or local Bell's circuit violation implementation).",
   "id": "c24aefcf163030"
  },
  {
   "cell_type": "code",
   "id": "initial_id",
   "metadata": {
    "collapsed": true,
    "ExecuteTime": {
     "end_time": "2024-09-04T20:05:32.736306Z",
     "start_time": "2024-09-04T20:05:30.571822Z"
    }
   },
   "source": [
    "import cirq\n",
    "from cirq.contrib.svg import SVGCircuit\n",
    "from cirq import Simulator\n",
    "from IPython.display import SVG, display"
   ],
   "outputs": [],
   "execution_count": 1
  },
  {
   "metadata": {
    "ExecuteTime": {
     "end_time": "2024-09-04T20:30:45.313232Z",
     "start_time": "2024-09-04T20:30:45.308105Z"
    }
   },
   "cell_type": "code",
   "source": [
    "# function to create a quantum teleportation circuit\n",
    "def create_teleportation_circuit():\n",
    "    # Create quantum register\n",
    "    qubits = cirq.LineQubit.range(3) # 0: Tx, 1: Entangled, 2: Rx\n",
    "    \n",
    "    circuit=cirq.Circuit()\n",
    "    \n",
    "    # Step 1: Prepare entangled pair between Tx (Alice) and Rx (Bob)\n",
    "    circuit.append([cirq.H(qubits[1])]) # Hadamard gate for the entangled qubit (Hadamard at Rx)\n",
    "    circuit.append([cirq.CNOT(qubits[1], qubits[2])]) # CNOT gate between the entangled qubit and Rx\n",
    "    \n",
    "    # Step2: Alice sends the quantum state she wants to teleport to the entangled qubit\n",
    "    circuit.append([cirq.CNOT(qubits[0], qubits[1])]) # CNOT gate between the qubit to be teleported (Tx)\n",
    "                                                        # and the entangled qubit\n",
    "    circuit.append([cirq.H(qubits[0])]) # Hadamard gate for the qubit to be teleported (Tx)\n",
    "    \n",
    "    # Step 3: Alice measures the qubits to be teleported and entangled qubit\n",
    "    circuit.append(cirq.measure(qubits[0], qubits[1])) # Measurement at Tx and the entangled qubit\n",
    "    \n",
    "    # Step 4: Bob applies X and Z gates based on the measurement results to reconstruct the state\n",
    "    circuit.append(cirq.CNOT(qubits[1], qubits[2]))  # CNOT gate at the entangled qubit and Rx\n",
    "    circuit.append(cirq.CZ(qubits[0], qubits[2]))    # CZ gate between the qubit to be teleported (Tx) and Rx\n",
    "\n",
    "    return circuit"
   ],
   "id": "d82c97395dd4b9b0",
   "outputs": [],
   "execution_count": 7
  },
  {
   "metadata": {
    "ExecuteTime": {
     "end_time": "2024-09-04T20:31:03.405068Z",
     "start_time": "2024-09-04T20:31:02.878738Z"
    }
   },
   "cell_type": "code",
   "source": [
    "# Create the teleportation circuit\n",
    "teleportation_circuit = create_teleportation_circuit()\n",
    "\n",
    "# Display the circuit in SVG format\n",
    "svg_circuit = SVGCircuit(teleportation_circuit)  # Create SVGCircuit object\n",
    "display(svg_circuit)\n",
    "\n",
    "# Save the circuit diagram as text\n",
    "with open('exports/teleportation_circuit.txt', 'w', encoding='utf-8') as f:\n",
    "    f.write(teleportation_circuit.to_text_diagram())\n",
    "\n",
    "# Simulate the circuit\n",
    "simulator = cirq.Simulator()\n",
    "result = simulator.run(teleportation_circuit, repetitions=1000)\n",
    "\n",
    "# Display the measurement results in text\n",
    "print(\"Measurement results:\")\n",
    "print(result)"
   ],
   "id": "4c397d2aae9ece5",
   "outputs": [
    {
     "data": {
      "text/plain": [
       "<cirq.contrib.svg.svg.SVGCircuit at 0x1d36879bb00>"
      ],
      "image/svg+xml": "<svg xmlns=\"http://www.w3.org/2000/svg\" width=\"520.0\" height=\"150.0\"><line x1=\"30.0\" x2=\"490.0\" y1=\"25.0\" y2=\"25.0\" stroke=\"#1967d2\" stroke-width=\"1\" /><line x1=\"30.0\" x2=\"490.0\" y1=\"75.0\" y2=\"75.0\" stroke=\"#1967d2\" stroke-width=\"1\" /><line x1=\"30.0\" x2=\"490.0\" y1=\"125.0\" y2=\"125.0\" stroke=\"#1967d2\" stroke-width=\"1\" /><line x1=\"150.0\" x2=\"150.0\" y1=\"75.0\" y2=\"125.0\" stroke=\"black\" stroke-width=\"3\" /><line x1=\"210.0\" x2=\"210.0\" y1=\"25.0\" y2=\"75.0\" stroke=\"black\" stroke-width=\"3\" /><line x1=\"330.0\" x2=\"330.0\" y1=\"25.0\" y2=\"75.0\" stroke=\"black\" stroke-width=\"3\" /><line x1=\"390.0\" x2=\"390.0\" y1=\"75.0\" y2=\"125.0\" stroke=\"black\" stroke-width=\"3\" /><line x1=\"450.0\" x2=\"450.0\" y1=\"25.0\" y2=\"125.0\" stroke=\"black\" stroke-width=\"3\" /><rect x=\"10.0\" y=\"5.0\" width=\"40\" height=\"40\" stroke=\"black\" fill=\"white\" stroke-width=\"0\" /><text x=\"30.0\" y=\"25.0\" dominant-baseline=\"middle\" text-anchor=\"middle\" font-size=\"14px\" font-family=\"sans\\-serif:style=normal:variant=normal:weight=normal:stretch=normal:size=10.0\">0: </text><rect x=\"10.0\" y=\"55.0\" width=\"40\" height=\"40\" stroke=\"black\" fill=\"white\" stroke-width=\"0\" /><text x=\"30.0\" y=\"75.0\" dominant-baseline=\"middle\" text-anchor=\"middle\" font-size=\"14px\" font-family=\"sans\\-serif:style=normal:variant=normal:weight=normal:stretch=normal:size=10.0\">1: </text><rect x=\"10.0\" y=\"105.0\" width=\"40\" height=\"40\" stroke=\"black\" fill=\"white\" stroke-width=\"0\" /><text x=\"30.0\" y=\"125.0\" dominant-baseline=\"middle\" text-anchor=\"middle\" font-size=\"14px\" font-family=\"sans\\-serif:style=normal:variant=normal:weight=normal:stretch=normal:size=10.0\">2: </text><rect x=\"70.0\" y=\"55.0\" width=\"40\" height=\"40\" stroke=\"black\" fill=\"white\" stroke-width=\"1\" /><text x=\"90.0\" y=\"75.0\" dominant-baseline=\"middle\" text-anchor=\"middle\" font-size=\"18px\" font-family=\"sans\\-serif:style=normal:variant=normal:weight=normal:stretch=normal:size=10.0\">H</text><circle cx=\"150.0\" cy=\"75.0\" r=\"10.0\" /><rect x=\"130.0\" y=\"105.0\" width=\"40\" height=\"40\" stroke=\"black\" fill=\"white\" stroke-width=\"1\" /><text x=\"150.0\" y=\"125.0\" dominant-baseline=\"middle\" text-anchor=\"middle\" font-size=\"18px\" font-family=\"sans\\-serif:style=normal:variant=normal:weight=normal:stretch=normal:size=10.0\">X</text><circle cx=\"210.0\" cy=\"25.0\" r=\"10.0\" /><rect x=\"190.0\" y=\"55.0\" width=\"40\" height=\"40\" stroke=\"black\" fill=\"white\" stroke-width=\"1\" /><text x=\"210.0\" y=\"75.0\" dominant-baseline=\"middle\" text-anchor=\"middle\" font-size=\"18px\" font-family=\"sans\\-serif:style=normal:variant=normal:weight=normal:stretch=normal:size=10.0\">X</text><rect x=\"250.0\" y=\"5.0\" width=\"40\" height=\"40\" stroke=\"black\" fill=\"white\" stroke-width=\"1\" /><text x=\"270.0\" y=\"25.0\" dominant-baseline=\"middle\" text-anchor=\"middle\" font-size=\"18px\" font-family=\"sans\\-serif:style=normal:variant=normal:weight=normal:stretch=normal:size=10.0\">H</text><rect x=\"310.0\" y=\"5.0\" width=\"40\" height=\"40\" stroke=\"black\" fill=\"white\" stroke-width=\"1\" /><text x=\"330.0\" y=\"25.0\" dominant-baseline=\"middle\" text-anchor=\"middle\" font-size=\"18px\" font-family=\"sans\\-serif:style=normal:variant=normal:weight=normal:stretch=normal:size=10.0\">M</text><rect x=\"310.0\" y=\"55.0\" width=\"40\" height=\"40\" stroke=\"black\" fill=\"white\" stroke-width=\"1\" /><text x=\"330.0\" y=\"75.0\" dominant-baseline=\"middle\" text-anchor=\"middle\" font-size=\"18px\" font-family=\"sans\\-serif:style=normal:variant=normal:weight=normal:stretch=normal:size=10.0\">M</text><circle cx=\"390.0\" cy=\"75.0\" r=\"10.0\" /><rect x=\"370.0\" y=\"105.0\" width=\"40\" height=\"40\" stroke=\"black\" fill=\"white\" stroke-width=\"1\" /><text x=\"390.0\" y=\"125.0\" dominant-baseline=\"middle\" text-anchor=\"middle\" font-size=\"18px\" font-family=\"sans\\-serif:style=normal:variant=normal:weight=normal:stretch=normal:size=10.0\">X</text><circle cx=\"450.0\" cy=\"25.0\" r=\"10.0\" /><circle cx=\"450.0\" cy=\"125.0\" r=\"10.0\" /></svg>"
     },
     "metadata": {},
     "output_type": "display_data"
    },
    {
     "name": "stdout",
     "output_type": "stream",
     "text": [
      "Measurement results:\n",
      "q(0),q(1)=0011111010110111001101110000100001010001001101100011000001010001101101001100111000001101100111001100110001111110111000000110101001011100100010010010111101101011010001100100101001111111101011010011111010010110001111110000101011011010000000010000111010101110011100001100001011001011000001111111001110111000111001111100101010111100111101001101111111110111001011111110011011101101001001101100100111010010011010000010110000010011000001100010110011000100100011001010101001111000001001010110111111100100000111001000010110011100010000010100101100010001100000101011111001010111100010100100101100110100011011110110100000000110011010010100111010001000001010101101111010110110111010100011010001011110100011011001110100011011011011000100010110000111010010110111010011111110010011000110101010111110001001101101001110001011101110000110000011101000000111110100000001000110111110011111110001110110100101011000001111111111011100111101010110110010100010100000000111010010101101110101111111000010001111001001010100000001, 1100110100100101110111010001111101000010101010001000000100011010100101010110001101100111111110110110101110010111001110000000111100010010000011100011000001110111001111100000011010110011101110101101000110111111110100111100111001111011101110011101011000010101101100001011111010000011010010111001111011000010011110001000011001001100011011111111100001101101100010110101010110110000011010001111010001011000111100000011100111110001100010000000001101010010110010111101001011101010101110110010000011010101000110101010111110100010010110111010111011101110111110001001000001101101100000100000011101111101110111011010000001011011000011100010111101101011010000111110000111011111001101110011110010010000010101011001111111001110010100111110011011000011111010101101001110101001001111011101000111010110011100101011010011000010011100001110100001110000010110111100000001110110111111101110101101101101100011010011001000111001100110011100111001000010100110010110110011000011000101101000000000011101101111100101000101111011\n"
     ]
    }
   ],
   "execution_count": 9
  }
 ],
 "metadata": {
  "kernelspec": {
   "display_name": "Python 3",
   "language": "python",
   "name": "python3"
  },
  "language_info": {
   "codemirror_mode": {
    "name": "ipython",
    "version": 2
   },
   "file_extension": ".py",
   "mimetype": "text/x-python",
   "name": "python",
   "nbconvert_exporter": "python",
   "pygments_lexer": "ipython2",
   "version": "2.7.6"
  }
 },
 "nbformat": 4,
 "nbformat_minor": 5
}
